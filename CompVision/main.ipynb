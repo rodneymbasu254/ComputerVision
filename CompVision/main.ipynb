{
 "cells": [
  {
   "cell_type": "code",
   "execution_count": 2,
   "id": "68efb641-fc67-44bd-991a-582f603aa34a",
   "metadata": {},
   "outputs": [],
   "source": [
    "import cv2\n",
    "import numpy as np"
   ]
  },
  {
   "cell_type": "code",
   "execution_count": 3,
   "id": "50d1ae36-5bb7-4a01-b327-eb698ec83f3e",
   "metadata": {},
   "outputs": [
    {
     "name": "stdout",
     "output_type": "stream",
     "text": [
      "Shape:  (1472, 736, 3)\n",
      "pixel at (100, 100):  [ 40  61 116]\n"
     ]
    }
   ],
   "source": [
    "img = cv2.imread('test.jpeg')\n",
    "print('Shape: ', img.shape)\n",
    "\n",
    "pixel = img[100, 100]\n",
    "print(\"pixel at (100, 100): \", pixel)"
   ]
  },
  {
   "cell_type": "code",
   "execution_count": 4,
   "id": "f24c0de2-6c82-48f1-8fff-5f7163ec1437",
   "metadata": {},
   "outputs": [],
   "source": [
    "# Crop from (y1:y2, x1:x2)\n",
    "cropped = img[50:200, 100:300]\n",
    "\n",
    "cv2.imshow(\"Cropped\", cropped)\n",
    "cv2.waitKey(0)\n",
    "cv2.destroyAllWindows()\n"
   ]
  },
  {
   "cell_type": "code",
   "execution_count": 5,
   "id": "24dab930-623e-4d87-aff1-6c7ccfd2e048",
   "metadata": {},
   "outputs": [],
   "source": [
    "gray = cv2.cvtColor(img, cv2.COLOR_BGR2GRAY)\n",
    "cv2.imshow(\"Grayscale\", gray)\n",
    "cv2.waitKey(0)\n",
    "cv2.destroyAllWindows()\n"
   ]
  },
  {
   "cell_type": "markdown",
   "id": "9155265a-e08c-47af-9836-3db1add1d24f",
   "metadata": {},
   "source": [
    "# ID CARD"
   ]
  },
  {
   "cell_type": "code",
   "execution_count": 1,
   "id": "65459953-7676-4b7f-921f-6c71bcdcd571",
   "metadata": {},
   "outputs": [],
   "source": [
    "import cv2\n",
    "import numpy as np"
   ]
  },
  {
   "cell_type": "code",
   "execution_count": 3,
   "id": "1312d4de-4f6c-43e4-810a-d6f0f5d61935",
   "metadata": {},
   "outputs": [
    {
     "name": "stdout",
     "output_type": "stream",
     "text": [
      "Shape is:  (260, 420, 3)\n"
     ]
    }
   ],
   "source": [
    "IDImg = cv2.imread(\"C:/Users/Home/Desktop/Comp Vision/files/front.jpg\")\n",
    "print(\"Shape is: \", IDImg.shape)"
   ]
  },
  {
   "cell_type": "code",
   "execution_count": 20,
   "id": "ff7071b4-7d68-4953-ae7e-8dd8a768d13c",
   "metadata": {},
   "outputs": [],
   "source": [
    "resizedImg = cv2.resize(IDImg,(390, 230))"
   ]
  },
  {
   "cell_type": "code",
   "execution_count": 21,
   "id": "16e30d56-7aa5-439a-b6ca-4cd41a8fedf0",
   "metadata": {},
   "outputs": [],
   "source": [
    "cv2.imshow(\"image: \", resizedImg)\n",
    "cv2.waitKey(0)\n",
    "cv2.destroyAllWindows()"
   ]
  },
  {
   "cell_type": "code",
   "execution_count": 40,
   "id": "40df1e9c-6172-4623-88ba-e00f45eb90be",
   "metadata": {},
   "outputs": [],
   "source": [
    "face_crop = resizedImg[80:200, 40:150]"
   ]
  },
  {
   "cell_type": "code",
   "execution_count": 41,
   "id": "eaa082ed-3724-466f-8a8f-99a7302149fb",
   "metadata": {},
   "outputs": [],
   "source": [
    "cv2.imshow(\"image: \", face_crop)\n",
    "cv2.waitKey(0)\n",
    "cv2.destroyAllWindows()"
   ]
  },
  {
   "cell_type": "code",
   "execution_count": 43,
   "id": "9be5768f-826d-4728-9d56-d3a2f96d4e4e",
   "metadata": {},
   "outputs": [],
   "source": [
    "grey_face = cv2.cvtColor(face_crop, cv2.COLOR_BGR2GRAY)"
   ]
  },
  {
   "cell_type": "code",
   "execution_count": 44,
   "id": "a8e1d327-ff75-4274-a1ac-32ba985f1633",
   "metadata": {},
   "outputs": [
    {
     "data": {
      "text/plain": [
       "array([[[241, 241, 241],\n",
       "        [241, 241, 241],\n",
       "        [241, 241, 241],\n",
       "        ...,\n",
       "        [241, 241, 241],\n",
       "        [241, 241, 241],\n",
       "        [241, 241, 241]],\n",
       "\n",
       "       [[241, 241, 241],\n",
       "        [241, 241, 241],\n",
       "        [241, 241, 241],\n",
       "        ...,\n",
       "        [241, 241, 241],\n",
       "        [241, 241, 241],\n",
       "        [241, 241, 241]],\n",
       "\n",
       "       [[241, 241, 241],\n",
       "        [241, 241, 241],\n",
       "        [241, 241, 241],\n",
       "        ...,\n",
       "        [241, 241, 241],\n",
       "        [241, 241, 241],\n",
       "        [241, 241, 241]],\n",
       "\n",
       "       ...,\n",
       "\n",
       "       [[219, 219, 219],\n",
       "        [219, 219, 219],\n",
       "        [219, 219, 219],\n",
       "        ...,\n",
       "        [219, 219, 219],\n",
       "        [219, 219, 219],\n",
       "        [219, 219, 219]],\n",
       "\n",
       "       [[219, 219, 219],\n",
       "        [219, 219, 219],\n",
       "        [219, 219, 219],\n",
       "        ...,\n",
       "        [219, 219, 219],\n",
       "        [219, 219, 219],\n",
       "        [219, 219, 219]],\n",
       "\n",
       "       [[219, 219, 219],\n",
       "        [219, 219, 219],\n",
       "        [219, 219, 219],\n",
       "        ...,\n",
       "        [219, 219, 219],\n",
       "        [219, 219, 219],\n",
       "        [219, 219, 219]]], dtype=uint8)"
      ]
     },
     "execution_count": 44,
     "metadata": {},
     "output_type": "execute_result"
    }
   ],
   "source": [
    "cv2.rectangle(resizedImg,  (40, 80), (150, 200), (0, 255, 0), 2)"
   ]
  },
  {
   "cell_type": "code",
   "execution_count": 45,
   "id": "b0ff73a6-fbec-4b56-a92c-43098491e1f4",
   "metadata": {},
   "outputs": [
    {
     "data": {
      "text/plain": [
       "array([[[241, 241, 241],\n",
       "        [241, 241, 241],\n",
       "        [241, 241, 241],\n",
       "        ...,\n",
       "        [241, 241, 241],\n",
       "        [241, 241, 241],\n",
       "        [241, 241, 241]],\n",
       "\n",
       "       [[241, 241, 241],\n",
       "        [241, 241, 241],\n",
       "        [241, 241, 241],\n",
       "        ...,\n",
       "        [241, 241, 241],\n",
       "        [241, 241, 241],\n",
       "        [241, 241, 241]],\n",
       "\n",
       "       [[241, 241, 241],\n",
       "        [241, 241, 241],\n",
       "        [241, 241, 241],\n",
       "        ...,\n",
       "        [241, 241, 241],\n",
       "        [241, 241, 241],\n",
       "        [241, 241, 241]],\n",
       "\n",
       "       ...,\n",
       "\n",
       "       [[219, 219, 219],\n",
       "        [219, 219, 219],\n",
       "        [219, 219, 219],\n",
       "        ...,\n",
       "        [219, 219, 219],\n",
       "        [219, 219, 219],\n",
       "        [219, 219, 219]],\n",
       "\n",
       "       [[219, 219, 219],\n",
       "        [219, 219, 219],\n",
       "        [219, 219, 219],\n",
       "        ...,\n",
       "        [219, 219, 219],\n",
       "        [219, 219, 219],\n",
       "        [219, 219, 219]],\n",
       "\n",
       "       [[219, 219, 219],\n",
       "        [219, 219, 219],\n",
       "        [219, 219, 219],\n",
       "        ...,\n",
       "        [219, 219, 219],\n",
       "        [219, 219, 219],\n",
       "        [219, 219, 219]]], dtype=uint8)"
      ]
     },
     "execution_count": 45,
     "metadata": {},
     "output_type": "execute_result"
    }
   ],
   "source": [
    "cv2.putText(resizedImg, \"JOHN CITIZEN WILLIAMS\", (50, 300),\n",
    "            cv2.FONT_HERSHEY_SIMPLEX, 0.8, (255, 0, 0), 2)"
   ]
  },
  {
   "cell_type": "code",
   "execution_count": null,
   "id": "b1dafcc6-af1c-4027-9a9f-bfbfd3642cdc",
   "metadata": {},
   "outputs": [],
   "source": [
    "cv2.imshow(\"CV ID Card\", resizedImg)\n",
    "cv2.waitKey(0)\n",
    "cv2.destroyAllWindows()"
   ]
  },
  {
   "cell_type": "code",
   "execution_count": null,
   "id": "267c5c86-7f34-42db-af89-0ff12e32750f",
   "metadata": {},
   "outputs": [],
   "source": []
  }
 ],
 "metadata": {
  "kernelspec": {
   "display_name": "Python 3 (ipykernel)",
   "language": "python",
   "name": "python3"
  },
  "language_info": {
   "codemirror_mode": {
    "name": "ipython",
    "version": 3
   },
   "file_extension": ".py",
   "mimetype": "text/x-python",
   "name": "python",
   "nbconvert_exporter": "python",
   "pygments_lexer": "ipython3",
   "version": "3.12.3"
  }
 },
 "nbformat": 4,
 "nbformat_minor": 5
}
