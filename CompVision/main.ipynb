{
 "cells": [
  {
   "cell_type": "code",
   "execution_count": 2,
   "id": "68efb641-fc67-44bd-991a-582f603aa34a",
   "metadata": {},
   "outputs": [],
   "source": [
    "import cv2\n",
    "import numpy as np"
   ]
  },
  {
   "cell_type": "code",
   "execution_count": 3,
   "id": "50d1ae36-5bb7-4a01-b327-eb698ec83f3e",
   "metadata": {},
   "outputs": [
    {
     "name": "stdout",
     "output_type": "stream",
     "text": [
      "Shape:  (1472, 736, 3)\n",
      "pixel at (100, 100):  [ 40  61 116]\n"
     ]
    }
   ],
   "source": [
    "img = cv2.imread('test.jpeg')\n",
    "print('Shape: ', img.shape)\n",
    "\n",
    "pixel = img[100, 100]\n",
    "print(\"pixel at (100, 100): \", pixel)"
   ]
  },
  {
   "cell_type": "code",
   "execution_count": 4,
   "id": "f24c0de2-6c82-48f1-8fff-5f7163ec1437",
   "metadata": {},
   "outputs": [],
   "source": [
    "# Crop from (y1:y2, x1:x2)\n",
    "cropped = img[50:200, 100:300]\n",
    "\n",
    "cv2.imshow(\"Cropped\", cropped)\n",
    "cv2.waitKey(0)\n",
    "cv2.destroyAllWindows()\n"
   ]
  },
  {
   "cell_type": "code",
   "execution_count": 5,
   "id": "24dab930-623e-4d87-aff1-6c7ccfd2e048",
   "metadata": {},
   "outputs": [],
   "source": [
    "gray = cv2.cvtColor(img, cv2.COLOR_BGR2GRAY)\n",
    "cv2.imshow(\"Grayscale\", gray)\n",
    "cv2.waitKey(0)\n",
    "cv2.destroyAllWindows()\n"
   ]
  },
  {
   "cell_type": "markdown",
   "id": "9155265a-e08c-47af-9836-3db1add1d24f",
   "metadata": {},
   "source": [
    "# ID CARD"
   ]
  },
  {
   "cell_type": "code",
   "execution_count": 1,
   "id": "65459953-7676-4b7f-921f-6c71bcdcd571",
   "metadata": {},
   "outputs": [],
   "source": [
    "import cv2\n",
    "import numpy as np"
   ]
  },
  {
   "cell_type": "code",
   "execution_count": 3,
   "id": "1312d4de-4f6c-43e4-810a-d6f0f5d61935",
   "metadata": {},
   "outputs": [
    {
     "name": "stdout",
     "output_type": "stream",
     "text": [
      "Shape:  (529, 748, 3)\n",
      "pixel at (100, 100):  [225 233 222]\n"
     ]
    }
   ],
   "source": [
    "IdImg = cv2.imread(\"id.jpg\")\n",
    "print(\"Shape: \", IdImg.shape)\n",
    "pixel = IdImg[100,100]\n",
    "print(\"pixel at (100, 100): \", pixel)"
   ]
  },
  {
   "cell_type": "code",
   "execution_count": 7,
   "id": "405e85be-c297-46fe-8863-ce73dbe9192d",
   "metadata": {},
   "outputs": [],
   "source": [
    "cv2.imshow(\"image: \", IdImg)\n",
    "cv2.waitKey(0)\n",
    "cv2.destroyAllWindows()"
   ]
  },
  {
   "cell_type": "code",
   "execution_count": null,
   "id": "ff7071b4-7d68-4953-ae7e-8dd8a768d13c",
   "metadata": {},
   "outputs": [],
   "source": []
  }
 ],
 "metadata": {
  "kernelspec": {
   "display_name": "Python 3 (ipykernel)",
   "language": "python",
   "name": "python3"
  },
  "language_info": {
   "codemirror_mode": {
    "name": "ipython",
    "version": 3
   },
   "file_extension": ".py",
   "mimetype": "text/x-python",
   "name": "python",
   "nbconvert_exporter": "python",
   "pygments_lexer": "ipython3",
   "version": "3.12.3"
  }
 },
 "nbformat": 4,
 "nbformat_minor": 5
}
