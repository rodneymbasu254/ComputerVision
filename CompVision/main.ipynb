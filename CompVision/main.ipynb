{
 "cells": [
  {
   "cell_type": "code",
   "execution_count": 23,
   "id": "68efb641-fc67-44bd-991a-582f603aa34a",
   "metadata": {},
   "outputs": [],
   "source": [
    "import cv2\n",
    "import numpy as np"
   ]
  },
  {
   "cell_type": "code",
   "execution_count": 24,
   "id": "50d1ae36-5bb7-4a01-b327-eb698ec83f3e",
   "metadata": {},
   "outputs": [
    {
     "name": "stdout",
     "output_type": "stream",
     "text": [
      "Shape:  (1472, 736, 3)\n",
      "pixel at (100, 100):  [ 40  61 116]\n"
     ]
    }
   ],
   "source": [
    "img = cv2.imread('test.jpeg')\n",
    "print('Shape: ', img.shape)\n",
    "\n",
    "pixel = img[100, 100]\n",
    "print(\"pixel at (100, 100): \", pixel)"
   ]
  },
  {
   "cell_type": "code",
   "execution_count": 4,
   "id": "f24c0de2-6c82-48f1-8fff-5f7163ec1437",
   "metadata": {},
   "outputs": [],
   "source": [
    "# Crop from (y1:y2, x1:x2)\n",
    "cropped = img[50:200, 100:300]\n",
    "\n",
    "cv2.imshow(\"Cropped\", cropped)\n",
    "cv2.waitKey(0)\n",
    "cv2.destroyAllWindows()\n"
   ]
  },
  {
   "cell_type": "code",
   "execution_count": 5,
   "id": "24dab930-623e-4d87-aff1-6c7ccfd2e048",
   "metadata": {},
   "outputs": [],
   "source": [
    "gray = cv2.cvtColor(img, cv2.COLOR_BGR2GRAY)\n",
    "cv2.imshow(\"Grayscale\", gray)\n",
    "cv2.waitKey(0)\n",
    "cv2.destroyAllWindows()\n"
   ]
  },
  {
   "cell_type": "markdown",
   "id": "9155265a-e08c-47af-9836-3db1add1d24f",
   "metadata": {},
   "source": [
    "# ID CARD"
   ]
  },
  {
   "cell_type": "code",
   "execution_count": 20,
   "id": "65459953-7676-4b7f-921f-6c71bcdcd571",
   "metadata": {},
   "outputs": [],
   "source": [
    "import cv2\n",
    "import numpy as np"
   ]
  },
  {
   "cell_type": "code",
   "execution_count": 21,
   "id": "1312d4de-4f6c-43e4-810a-d6f0f5d61935",
   "metadata": {},
   "outputs": [
    {
     "ename": "AttributeError",
     "evalue": "'NoneType' object has no attribute 'shape'",
     "output_type": "error",
     "traceback": [
      "\u001b[1;31m---------------------------------------------------------------------------\u001b[0m",
      "\u001b[1;31mAttributeError\u001b[0m                            Traceback (most recent call last)",
      "Cell \u001b[1;32mIn[21], line 2\u001b[0m\n\u001b[0;32m      1\u001b[0m IDImg \u001b[38;5;241m=\u001b[39m cv2\u001b[38;5;241m.\u001b[39mimread(\u001b[38;5;124m\"\u001b[39m\u001b[38;5;124mC:/Users/Home/Desktop/Comp Vision/files/front.jpg\u001b[39m\u001b[38;5;124m\"\u001b[39m)\n\u001b[1;32m----> 2\u001b[0m \u001b[38;5;28mprint\u001b[39m(\u001b[38;5;124m\"\u001b[39m\u001b[38;5;124mShape is: \u001b[39m\u001b[38;5;124m\"\u001b[39m, \u001b[43mIDImg\u001b[49m\u001b[38;5;241;43m.\u001b[39;49m\u001b[43mshape\u001b[49m)\n",
      "\u001b[1;31mAttributeError\u001b[0m: 'NoneType' object has no attribute 'shape'"
     ]
    }
   ],
   "source": [
    "IDImg = cv2.imread(\"C:/Users/Home/Desktop/Comp Vision/files/front.jpg\")\n",
    "print(\"Shape is: \", IDImg.shape)"
   ]
  },
  {
   "cell_type": "code",
   "execution_count": 22,
   "id": "ff7071b4-7d68-4953-ae7e-8dd8a768d13c",
   "metadata": {},
   "outputs": [
    {
     "ename": "error",
     "evalue": "OpenCV(4.10.0) D:\\a\\opencv-python\\opencv-python\\opencv\\modules\\imgproc\\src\\resize.cpp:4152: error: (-215:Assertion failed) !ssize.empty() in function 'cv::resize'\n",
     "output_type": "error",
     "traceback": [
      "\u001b[1;31m---------------------------------------------------------------------------\u001b[0m",
      "\u001b[1;31merror\u001b[0m                                     Traceback (most recent call last)",
      "Cell \u001b[1;32mIn[22], line 1\u001b[0m\n\u001b[1;32m----> 1\u001b[0m resizedImg \u001b[38;5;241m=\u001b[39m \u001b[43mcv2\u001b[49m\u001b[38;5;241;43m.\u001b[39;49m\u001b[43mresize\u001b[49m\u001b[43m(\u001b[49m\u001b[43mIDImg\u001b[49m\u001b[43m,\u001b[49m\u001b[43m(\u001b[49m\u001b[38;5;241;43m390\u001b[39;49m\u001b[43m,\u001b[49m\u001b[43m \u001b[49m\u001b[38;5;241;43m230\u001b[39;49m\u001b[43m)\u001b[49m\u001b[43m)\u001b[49m\n",
      "\u001b[1;31merror\u001b[0m: OpenCV(4.10.0) D:\\a\\opencv-python\\opencv-python\\opencv\\modules\\imgproc\\src\\resize.cpp:4152: error: (-215:Assertion failed) !ssize.empty() in function 'cv::resize'\n"
     ]
    }
   ],
   "source": [
    "resizedImg = cv2.resize(IDImg,(390, 230))"
   ]
  },
  {
   "cell_type": "code",
   "execution_count": null,
   "id": "16e30d56-7aa5-439a-b6ca-4cd41a8fedf0",
   "metadata": {},
   "outputs": [],
   "source": [
    "cv2.imshow(\"image: \", resizedImg)\n",
    "cv2.waitKey(0)\n",
    "cv2.destroyAllWindows()"
   ]
  },
  {
   "cell_type": "code",
   "execution_count": null,
   "id": "40df1e9c-6172-4623-88ba-e00f45eb90be",
   "metadata": {},
   "outputs": [],
   "source": [
    "face_crop = resizedImg[80:200, 40:150]"
   ]
  },
  {
   "cell_type": "code",
   "execution_count": null,
   "id": "eaa082ed-3724-466f-8a8f-99a7302149fb",
   "metadata": {},
   "outputs": [],
   "source": [
    "cv2.imshow(\"image: \", face_crop)\n",
    "cv2.waitKey(0)\n",
    "cv2.destroyAllWindows()"
   ]
  },
  {
   "cell_type": "code",
   "execution_count": null,
   "id": "9be5768f-826d-4728-9d56-d3a2f96d4e4e",
   "metadata": {},
   "outputs": [],
   "source": [
    "grey_face = cv2.cvtColor(face_crop, cv2.COLOR_BGR2GRAY)"
   ]
  },
  {
   "cell_type": "code",
   "execution_count": null,
   "id": "a8e1d327-ff75-4274-a1ac-32ba985f1633",
   "metadata": {},
   "outputs": [],
   "source": [
    "cv2.rectangle(resizedImg,  (40, 80), (150, 200), (0, 255, 0), 2)"
   ]
  },
  {
   "cell_type": "code",
   "execution_count": null,
   "id": "b0ff73a6-fbec-4b56-a92c-43098491e1f4",
   "metadata": {},
   "outputs": [],
   "source": [
    "cv2.putText(resizedImg, \"JOHN CITIZEN WILLIAMS\", (50, 300),\n",
    "            cv2.FONT_HERSHEY_SIMPLEX, 0.8, (255, 0, 0), 2)"
   ]
  },
  {
   "cell_type": "code",
   "execution_count": null,
   "id": "b1dafcc6-af1c-4027-9a9f-bfbfd3642cdc",
   "metadata": {},
   "outputs": [],
   "source": [
    "cv2.imshow(\"CV ID Card\", resizedImg)\n",
    "cv2.waitKey(0)\n",
    "cv2.destroyAllWindows()"
   ]
  },
  {
   "cell_type": "code",
   "execution_count": null,
   "id": "267c5c86-7f34-42db-af89-0ff12e32750f",
   "metadata": {},
   "outputs": [],
   "source": [
    "blur = cv2.GaussianBlur(resizedImg, (7, 7), 0)\n",
    "cv2.imshow(\"Blurred\", blur)\n",
    "cv2.waitKey(0)\n",
    "cv2.destroyAllWindows()"
   ]
  },
  {
   "cell_type": "code",
   "execution_count": null,
   "id": "24220ab6-7e05-40b2-8c7d-508ff4045fca",
   "metadata": {},
   "outputs": [],
   "source": [
    "edges = cv2.Canny(resizedImg, 50, 150)\n",
    "cv2.imshow(\"Edges\", edges)\n",
    "cv2.waitKey(0)\n",
    "cv2.destroyAllWindows()"
   ]
  },
  {
   "cell_type": "code",
   "execution_count": null,
   "id": "7be70584-0bc1-4540-8dde-77eae314ea32",
   "metadata": {},
   "outputs": [],
   "source": [
    "gray = cv2.cvtColor(resizedImg, cv2.COLOR_BGR2GRAY)\n",
    "_, thresh = cv2.threshold(gray, 127, 255, cv2.THRESH_BINARY)\n",
    "cv2.imshow(\"Threshold\", thresh)\n",
    "cv2.waitKey(0)\n",
    "cv2.destroyAllWindows()"
   ]
  },
  {
   "cell_type": "markdown",
   "id": "e594c969-e617-4a31-a41d-8e95c57e66f8",
   "metadata": {},
   "source": [
    "# Document scanner"
   ]
  },
  {
   "cell_type": "code",
   "execution_count": 15,
   "id": "5b3fba59-22da-45c0-8309-b1d35e790d05",
   "metadata": {},
   "outputs": [],
   "source": [
    "import cv2"
   ]
  },
  {
   "cell_type": "code",
   "execution_count": 16,
   "id": "1314ba2e-bae2-406f-9078-72028bbfcccc",
   "metadata": {},
   "outputs": [],
   "source": [
    "doc = cv2.imread(\"C:/Users/Home/Desktop/Comp Vision/ComputerVision/files/doc.png\")\n",
    "resize_img = cv2.resize(doc, (500, 500))\n",
    "gray = cv2.cvtColor(resize_img, cv2.COLOR_BGR2GRAY)"
   ]
  },
  {
   "cell_type": "code",
   "execution_count": 17,
   "id": "cc9b2ac7-208b-46c5-8847-fc0116dabd31",
   "metadata": {},
   "outputs": [],
   "source": [
    "cv2.imshow(\"resized\", resize_img)\n",
    "cv2.waitKey(0)\n",
    "cv2.destroyAllWindows()"
   ]
  },
  {
   "cell_type": "code",
   "execution_count": 18,
   "id": "80427b9f-2eaa-4e52-acc2-6249f81e7307",
   "metadata": {},
   "outputs": [],
   "source": [
    "_, thresh = cv2.threshold(gray, 127, 255, cv2.THRESH_BINARY)\n",
    "cv2.imshow(\"Threshold\", thresh)\n",
    "cv2.waitKey(0)\n",
    "cv2.destroyAllWindows()"
   ]
  },
  {
   "cell_type": "code",
   "execution_count": 19,
   "id": "dc16d852-ab46-4da2-92ca-fdf1eac979ae",
   "metadata": {},
   "outputs": [],
   "source": [
    "adaptive_thresh = cv2.adaptiveThreshold(\n",
    "    gray, 255, cv2.ADAPTIVE_THRESH_MEAN_C, \n",
    "    cv2.THRESH_BINARY, 11, 2\n",
    ")\n",
    "cv2.imshow(\"Adaptive Scan\", adaptive_thresh)\n",
    "cv2.waitKey(0)\n",
    "cv2.destroyAllWindows()"
   ]
  },
  {
   "cell_type": "markdown",
   "id": "8896ecdd-48e9-44a6-9313-e8fb70cee37f",
   "metadata": {},
   "source": [
    "# Frames "
   ]
  },
  {
   "cell_type": "code",
   "execution_count": 25,
   "id": "67357d60-57be-4026-867e-0d533697f185",
   "metadata": {},
   "outputs": [],
   "source": [
    "import cv2\n",
    "import os\n",
    "\n",
    "frame_folder = \"C:/Users/Home/Downloads/archive/train/images\"\n",
    "frames = sorted(os.listdir(frame_folder))\n",
    "height, width = 1080, 1920  \n",
    "\n",
    "out = cv2.VideoWriter('output_video.avi', cv2.VideoWriter_fourcc(*'XVID'), 30, (width, height))\n",
    "\n",
    "for frame in frames:\n",
    "    img = cv2.imread(os.path.join(frame_folder, frame))\n",
    "    out.write(img)\n",
    "\n",
    "out.release()\n"
   ]
  },
  {
   "cell_type": "code",
   "execution_count": null,
   "id": "7ce9e874-deea-4dde-8597-8ffd4d9bfbe0",
   "metadata": {},
   "outputs": [],
   "source": []
  }
 ],
 "metadata": {
  "kernelspec": {
   "display_name": "Python 3 (ipykernel)",
   "language": "python",
   "name": "python3"
  },
  "language_info": {
   "codemirror_mode": {
    "name": "ipython",
    "version": 3
   },
   "file_extension": ".py",
   "mimetype": "text/x-python",
   "name": "python",
   "nbconvert_exporter": "python",
   "pygments_lexer": "ipython3",
   "version": "3.12.3"
  }
 },
 "nbformat": 4,
 "nbformat_minor": 5
}
